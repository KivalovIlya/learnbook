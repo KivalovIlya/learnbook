{
 "cells": [
  {
   "cell_type": "code",
   "execution_count": 2,
   "id": "9285f921",
   "metadata": {},
   "outputs": [],
   "source": [
    "# Соглашение об импорте\n",
    "import numpy as np\n",
    "import matplotlib.pyplot as plt\n",
    "import pandas as pd\n",
    "import seaborn as sns\n",
    "import statsmodels as sm"
   ]
  },
  {
   "cell_type": "raw",
   "id": "b57637c0",
   "metadata": {},
   "source": [
    "Жаргон\n",
    "Переформатирование – процесс приведения неструктурированных и (или) замусоренных данных к структурированной или чистой форме. Слово вошла в лексикон многих современных специалистов по анализу данных.\n",
    "Псевдокод – описание алгоритма или процесса в форме, напоминающей код, хотя фактически это не есть корректный исходных код на каком-то языку программирования.\n",
    "Синтаксический сахар – синтаксическая конструкция, которая не добавляет новую функциональность, а лишь вносит дополнительное удобство или позволяет сделать код короче."
   ]
  },
  {
   "cell_type": "raw",
   "id": "da261257",
   "metadata": {},
   "source": [
    "Основы языка Python, IPython и Jupyter-блокноты\n",
    "Для продуктивного анализа данных вовсе необязательно профессионально заниматься разработкой ПО на Python. \n",
    "Желающим углубить свои знания рекомендую дополнить эту главу одной из замечательных книг по программированию на Python. \n",
    "Начать можно, например,  с таких книг:\n",
    "•\tРамальо Л. Python. К вершинам мастерства. М.: ДМК Пресс, 2016.\n",
    "•\tСталкин Б. Секреты Python. М.: Вильямс, 2017."
   ]
  },
  {
   "cell_type": "code",
   "execution_count": 5,
   "id": "4e1a480d",
   "metadata": {},
   "outputs": [],
   "source": [
    "# Интроспекция\n",
    "# Если ввести вопросительный знак (?) до или после имени переменной, то будет напечатана общая информация об объекте:\n",
    "b = [1, 2, 3]\n",
    "b?"
   ]
  },
  {
   "cell_type": "code",
   "execution_count": 6,
   "id": "c7f6560e",
   "metadata": {},
   "outputs": [],
   "source": [
    "# Два вопросительных знака (??) покажут исходный код функции, если это возможно\n",
    "def sum_two_elements(a, b):\n",
    "    return a+b\n",
    "\n",
    "sum_two_elements??"
   ]
  },
  {
   "cell_type": "code",
   "execution_count": 11,
   "id": "da8070ff",
   "metadata": {},
   "outputs": [],
   "source": [
    "# Поиск в пространстве имен. Нарпимер, список имен содержащие строку 'pol'\n",
    "np.*pol*?"
   ]
  },
  {
   "cell_type": "code",
   "execution_count": 15,
   "id": "05b6fa9e",
   "metadata": {},
   "outputs": [
    {
     "name": "stdout",
     "output_type": "stream",
     "text": [
      "hello\n"
     ]
    }
   ],
   "source": [
    "# При помощи '%run' можно запустить любой файл как Python-программу.\n",
    "%run hello.py"
   ]
  },
  {
   "cell_type": "raw",
   "id": "db80660e",
   "metadata": {},
   "source": [
    "В Jupyter-блокноте можно также использовать магическую функцию %load,\n",
    "которая импортирует скрипт в ячейку кода:"
   ]
  },
  {
   "cell_type": "code",
   "execution_count": null,
   "id": "793cedcb",
   "metadata": {},
   "outputs": [],
   "source": [
    "%load hello.py"
   ]
  },
  {
   "cell_type": "raw",
   "id": "d2179d5a",
   "metadata": {},
   "source": [
    "В IPython есть много специальных команд, называемых магическими, цель которых - упростить решение типичных задач\n",
    "и облегчить контроль над поведением всей системы IPython. Магический называется команда, которой предшествует знак %.\n",
    "Например, магическая функция %timeit позволяет замерить время выполнения любого предложения Python."
   ]
  },
  {
   "cell_type": "code",
   "execution_count": 18,
   "id": "9a812a3e",
   "metadata": {},
   "outputs": [
    {
     "name": "stdout",
     "output_type": "stream",
     "text": [
      "36.3 ms ± 1.71 ms per loop (mean ± std. dev. of 7 runs, 10 loops each)\n"
     ]
    }
   ],
   "source": [
    "a = np.random.randn(1000, 1000)\n",
    "%timeit np.dot(a, a)"
   ]
  },
  {
   "cell_type": "raw",
   "id": "284adf12",
   "metadata": {},
   "source": [
    "Некоторые магические функции ведус себя как функции Python, и их результат можно присваивать переменной"
   ]
  },
  {
   "cell_type": "code",
   "execution_count": 2,
   "id": "9344d5b8",
   "metadata": {},
   "outputs": [
    {
     "name": "stdout",
     "output_type": "stream",
     "text": [
      "C:\\Users\\ilia\\Desktop\n"
     ]
    }
   ],
   "source": [
    "source = %pwd\n",
    "print(source)"
   ]
  },
  {
   "cell_type": "raw",
   "id": "bcc2306d",
   "metadata": {},
   "source": [
    "Команды, наиболее важные для продуктивной работы в области интерактивных вычислений и разработки в среде IPython\n",
    "%quickref - вывессти краткую справку по IPython\n",
    "%magic - вывести подробную документацию по всем имеющимся магическим командам\n",
    "%debug - войти в интерактивный отладчик в точке последнего вызова, показанного в обратной трассировке исключения\n",
    "%hist - напечатать историю введеных команд \n",
    "%pdb - автоматически входить в отладчик после любого исключения\n",
    "%paste - выполнить отформатированный Python-код, находящийся в буфере обмена\n",
    "%cpaste - открыть специальное приглашениее для ручной вставки кода \n",
    "%reset - удалить все переменные и прочие именя, опредленные в интерактивном пространстве имен\n",
    "%page OBJECT - сформировать красиво отформатированное представление объекта и вывести его постранично\n",
    "%run script.py - выполнить Python-скрипт из IPython\n",
    "%prun предложение - выполнить предложение под управлением cProfile и вывести результаты профиля\n",
    "%time - показать время выполнения одного предложения\n",
    "%timeit - выполнить предложение несколько раз и усреднить время выполнения.\n",
    "%who, %who_ls, %whos - вывести переменные, определенные в интерактивном пространстве имен\n",
    "%xdel переменная - удалить переменную и попытаться очистить все ссылки на объект во внутренних структурах данных Python"
   ]
  },
  {
   "cell_type": "code",
   "execution_count": 21,
   "id": "09ed9688",
   "metadata": {},
   "outputs": [
    {
     "data": {
      "text/plain": [
       "[<matplotlib.lines.Line2D at 0x25fbdfcea60>]"
      ]
     },
     "execution_count": 21,
     "metadata": {},
     "output_type": "execute_result"
    },
    {
     "data": {
      "image/png": "[encoded data removed]",
      "text/plain": [
       "<Figure size 432x288 with 1 Axes>"
      ]
     },
     "metadata": {
      "needs_background": "light"
     },
     "output_type": "display_data"
    }
   ],
   "source": [
    "#В Jupyter команда %matplotlib inline настраивает интеграцию, так чтобы можно было создавать несколько окон графиков,\n",
    "#не мешая консольному сеансу\n",
    "import matplotlib.pyplot as plt\n",
    "import numpy as np\n",
    "plt.plot(np.random.randn(20).cumsum())"
   ]
  },
  {
   "cell_type": "raw",
   "id": "5c33bf54",
   "metadata": {},
   "source": [
    "#cumsum() - возвращает кумулятивную (накапливаемую) сумму элементов массива. То есть, например, пятый элемент будет являться суммой четерых предыдущих."
   ]
  },
  {
   "cell_type": "code",
   "execution_count": null,
   "id": "c2a8f95a",
   "metadata": {},
   "outputs": [],
   "source": [
    "Объекты в Python обычно имеют атрибуты - другие объекты, хранящиеся \"внутри\" данного, и методы - ассоциированные с объектом\n",
    "функции, имеющие доступ к внутреннему состоянию объекта. Обращение к тем и другим синтаксически выглядит как: obj.attrubute_name"
   ]
  },
  {
   "cell_type": "code",
   "execution_count": 8,
   "id": "631e55d2",
   "metadata": {},
   "outputs": [
    {
     "name": "stdout",
     "output_type": "stream",
     "text": [
      "2022-02-09 20:47:20\n",
      "47\n"
     ]
    }
   ],
   "source": [
    "#Модуль datetime в Python предоставляет типы datetime, date, time. Тип datetime объединяет информацию хранящуюся в date и time. \n",
    "from datetime import date, time, datetime\n",
    "dt = datetime(2022, 2, 9, 20, 47, 20)\n",
    "print(dt)\n",
    "print(dt.minute)"
   ]
  },
  {
   "cell_type": "raw",
   "id": "dcc39175",
   "metadata": {},
   "source": [
    "#Полезные методы списков:\n",
    "list.append(el) - добавление элемента в конец списка\n",
    "list.insert(index, el) - вставка элемента в указанную позицию\n",
    "list.pop(index) - удаление элемента в указанной позиции (возращает этот элемент)\n",
    "list.remove(el) - удаление первого элемента с указанным значением\n",
    "list.extend(els) - добавить несколько элементов в конец списка\n",
    "list.sort() - отсортировать на месте\n",
    "\n",
    "#Двоичный поиск и поддержание списка в отсортированном состоянии\n",
    "В стандартном модуле bisect реализованы операции двоичного поиска и вставки в отсортированный список.\n",
    "Метод bisect.bisect находит позицию, в которую следует следует вставить новый элемент,\n",
    "чтобы список остался отсортированным, а метод bisect.insort производит вставку в эту позицию.\n",
    "bisect.bisect(list, el)\n",
    "bisect.insort(list, index)"
   ]
  },
  {
   "cell_type": "code",
   "execution_count": 5,
   "id": "0f115be4",
   "metadata": {},
   "outputs": [
    {
     "name": "stdout",
     "output_type": "stream",
     "text": [
      "0 - 0\n",
      "1 - 4\n",
      "2 - 19\n",
      "3 - 2\n",
      "4 - 1\n"
     ]
    }
   ],
   "source": [
    "#Встроенные функции последовательностей\n",
    "# enumerate \n",
    "a = np.array([0, 4, 19, 2, 1])\n",
    "for value, el in enumerate(a):\n",
    "    print(f\"{value} - {el}\")"
   ]
  },
  {
   "cell_type": "code",
   "execution_count": 7,
   "id": "b54e78b9",
   "metadata": {},
   "outputs": [
    {
     "name": "stdout",
     "output_type": "stream",
     "text": [
      "[' ', 'a', 'd', 'e', 'h', 'l', 'l', 'l', 'o', 'o', 'r', 'w']\n",
      "[0, 1, 2, 4, 5, 9]\n"
     ]
    }
   ],
   "source": [
    "# Сортировка. Функция sorted принимает итерируемый тип данных и производит сортировку. 0,1..10,1 ; a-z ;  \n",
    "# sorted\n",
    "simple_text = 'hello worlda'\n",
    "print(sorted(simple_text))\n",
    "simple_list = [0, 5, 1, 4, 9, 2]\n",
    "print(sorted(simple_list))"
   ]
  },
  {
   "cell_type": "code",
   "execution_count": 8,
   "id": "edeff0c2",
   "metadata": {},
   "outputs": [
    {
     "name": "stdout",
     "output_type": "stream",
     "text": [
      "4 х 7 = 28\n",
      "6 х 5 = 30\n",
      "4 х 3 = 12\n",
      "1 х 2 = 2\n",
      "9 х 6 = 54\n",
      "7 х 4 = 28\n",
      "5 х 1 = 5\n",
      "4 х 8 = 32\n"
     ]
    }
   ],
   "source": [
    "# zip\n",
    "# Функция \"сшивает\" элементы нескольких списков, кортежей или других последовательностей в пары, создавая список кортежей\n",
    "# Очень частое применение - это одновременный обход нескольких последовательностей. Это прям круто реально!)\n",
    "a = np.array([4, 6, 4, 1, 9, 7, 5, 4])\n",
    "b = np.array([7, 5, 3, 2, 6, 4, 1, 8])\n",
    "for (i, j) in zip(a, b):\n",
    "    print(f\"{i} х {j} = {i*j}\")"
   ]
  },
  {
   "cell_type": "code",
   "execution_count": 10,
   "id": "f748a323",
   "metadata": {},
   "outputs": [
    {
     "name": "stdout",
     "output_type": "stream",
     "text": [
      "3\n",
      "2\n",
      "1\n",
      "0\n"
     ]
    }
   ],
   "source": [
    "# reversed \n",
    "# Функция перебирает элементы в обратном порядке\n",
    "for el in reversed(range(4)):\n",
    "    print(el)"
   ]
  },
  {
   "cell_type": "code",
   "execution_count": 13,
   "id": "3c943431",
   "metadata": {},
   "outputs": [
    {
     "data": {
      "text/plain": [
       "-7241034857993427784"
      ]
     },
     "execution_count": 13,
     "metadata": {},
     "output_type": "execute_result"
    }
   ],
   "source": [
    "# Допустимые типы ключей словаря\n",
    "# Значениями словаря могут быть произвольные объекты Python, но ключами должны быть неизменяемые объекты.\n",
    "# Например int, float, string. Технически это свойство называется хэшируемость. Функция hash позволяет проверить это.\n",
    "my_str = 'hello world'\n",
    "hash(my_str)"
   ]
  },
  {
   "cell_type": "code",
   "execution_count": null,
   "id": "a33aa5c6",
   "metadata": {},
   "outputs": [],
   "source": [
    "# Множество - это неупорядоченная коллекция уникальных элементов."
   ]
  }
 ],
 "metadata": {
  "kernelspec": {
   "display_name": "Python 3 (ipykernel)",
   "language": "python",
   "name": "python3"
  },
  "language_info": {
   "codemirror_mode": {
    "name": "ipython",
    "version": 3
   },
   "file_extension": ".py",
   "mimetype": "text/x-python",
   "name": "python",
   "nbconvert_exporter": "python",
   "pygments_lexer": "ipython3",
   "version": "3.9.7"
  }
 },
 "nbformat": 4,
 "nbformat_minor": 5
}
